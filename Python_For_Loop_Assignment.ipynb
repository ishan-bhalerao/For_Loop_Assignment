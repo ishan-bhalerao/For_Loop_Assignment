{
 "cells": [
  {
   "cell_type": "markdown",
   "id": "abbfd6eb-ac72-4b3e-a1c0-e5fef7e64d0d",
   "metadata": {},
   "source": [
    "Basic Level"
   ]
  },
  {
   "cell_type": "code",
   "execution_count": 1,
   "id": "036ee6da-1b01-49b1-a833-8bf1de0313e0",
   "metadata": {},
   "outputs": [
    {
     "name": "stdout",
     "output_type": "stream",
     "text": [
      "1\n",
      "2\n",
      "3\n",
      "4\n",
      "5\n",
      "6\n",
      "7\n",
      "8\n",
      "9\n",
      "10\n"
     ]
    }
   ],
   "source": [
    "#1.Write a Python program to print the numbers from 1 to 10 using a `for` loop.\n",
    "for i in range(1,11):\n",
    "    print(i)"
   ]
  },
  {
   "cell_type": "code",
   "execution_count": 3,
   "id": "bb26b8cc-02b8-4738-9929-7258bbe67b06",
   "metadata": {},
   "outputs": [
    {
     "name": "stdout",
     "output_type": "stream",
     "text": [
      "sum is: 55\n"
     ]
    }
   ],
   "source": [
    "#2. Create a program that calculates the sum of all numbers in a list using a `for` loop.\n",
    "l=[1,2,3,4,5,6,7,8,9,10]\n",
    "sum=0\n",
    "for i in l:\n",
    "    sum+=i\n",
    "    \n",
    "print(\"sum is:\",sum)\n",
    "    "
   ]
  },
  {
   "cell_type": "code",
   "execution_count": 16,
   "id": "efab9032-ec59-43d4-839b-a99581d9ed3b",
   "metadata": {},
   "outputs": [
    {
     "name": "stdout",
     "output_type": "stream",
     "text": [
      "The original string is : pwskills\n",
      "The reversed string(using loops) is : sllikswp\n"
     ]
    }
   ],
   "source": [
    "#3. Write a program to print the characters of a string in reverse order using a `for` loop.\n",
    "def reverse(s):\n",
    "\tstr = \"\"\n",
    "\tfor i in s:\n",
    "\t\tstr = i + str\n",
    "\treturn str\n",
    "\n",
    "s = \"pwskills\"\n",
    "\n",
    "print(\"The original string is : \", end=\"\")\n",
    "print(s)\n",
    "\n",
    "print(\"The reversed string(using loops) is : \", end=\"\")\n",
    "print(reverse(s))\n"
   ]
  },
  {
   "cell_type": "code",
   "execution_count": 18,
   "id": "c1e25a62-5373-46fa-be2f-f0890482fb98",
   "metadata": {},
   "outputs": [
    {
     "name": "stdin",
     "output_type": "stream",
     "text": [
      "Enter the no: 5\n"
     ]
    },
    {
     "name": "stdout",
     "output_type": "stream",
     "text": [
      "Factorial is: 120\n"
     ]
    }
   ],
   "source": [
    "#4. Develop a program that finds the factorial of a given number using a `for` loop.\n",
    "n=int(input(\"Enter the no:\"))\n",
    "fact=1\n",
    "for i in range(1,n+1):\n",
    "    fact*=i\n",
    "    \n",
    "print(\"Factorial is:\",fact)"
   ]
  },
  {
   "cell_type": "code",
   "execution_count": 21,
   "id": "61e95fc1-5fa2-474d-96e7-33df30f00f2f",
   "metadata": {},
   "outputs": [
    {
     "name": "stdin",
     "output_type": "stream",
     "text": [
      "Enter number: 27\n"
     ]
    },
    {
     "name": "stdout",
     "output_type": "stream",
     "text": [
      "27\n",
      "54\n",
      "81\n",
      "108\n",
      "135\n",
      "162\n",
      "189\n",
      "216\n",
      "243\n",
      "270\n"
     ]
    }
   ],
   "source": [
    "#5. Create a program to print the multiplication table of a given number using a `for` loop.\n",
    "n=int(input(\"Enter number:\"))\n",
    "for i in range(1,11):\n",
    "    mult=n * i\n",
    "    print(mult)"
   ]
  },
  {
   "cell_type": "code",
   "execution_count": 23,
   "id": "0a5a207c-4649-406b-a5c5-d3c4f4ea30e0",
   "metadata": {},
   "outputs": [
    {
     "name": "stdout",
     "output_type": "stream",
     "text": [
      "Even List is: [2, 4, 6, 8, 10]\n",
      "Odd List is: [1, 3, 5, 7, 9]\n"
     ]
    }
   ],
   "source": [
    "#6. Write a program that counts the number of even and odd numbers in a list using a `for` loop.\n",
    "l=[1,2,3,4,5,6,7,8,9,10]\n",
    "even=[]\n",
    "odd=[]\n",
    "for i in l:\n",
    "    if i%2==0:\n",
    "        even.append(i)\n",
    "    else:\n",
    "        odd.append(i)\n",
    "        \n",
    "print(\"Even List is:\",even)\n",
    "print(\"Odd List is:\",odd)       "
   ]
  },
  {
   "cell_type": "code",
   "execution_count": 24,
   "id": "88ac7e4b-8442-4496-b276-a7cb2e98c54c",
   "metadata": {},
   "outputs": [
    {
     "name": "stdout",
     "output_type": "stream",
     "text": [
      "1\n",
      "4\n",
      "9\n",
      "16\n",
      "25\n"
     ]
    }
   ],
   "source": [
    "#7. Develop a program that prints the squares of numbers from 1 to 5 using a `for` loop.\n",
    "for i in range(1,6):\n",
    "    print(i*i)"
   ]
  },
  {
   "cell_type": "code",
   "execution_count": 26,
   "id": "ffb3e34a-61be-4317-988f-143e5b1061ed",
   "metadata": {},
   "outputs": [
    {
     "name": "stdin",
     "output_type": "stream",
     "text": [
      "Enter string: ishan bhalerao\n"
     ]
    },
    {
     "name": "stdout",
     "output_type": "stream",
     "text": [
      "Length of string is: 14\n"
     ]
    }
   ],
   "source": [
    "#8. Create a program to find the length of a string without using the `len()` function.\n",
    "s=input(\"Enter string:\")\n",
    "c=0\n",
    "for i in s:\n",
    "    c+=1\n",
    "\n",
    "print(\"Length of string is:\",c)"
   ]
  },
  {
   "cell_type": "code",
   "execution_count": 30,
   "id": "a952efd7-8284-4f5d-b3d8-612479437714",
   "metadata": {},
   "outputs": [
    {
     "name": "stdout",
     "output_type": "stream",
     "text": [
      "Average is: 35.0\n"
     ]
    }
   ],
   "source": [
    "#9. Write a program that calculates the average of a list of numbers using a `for` loop.\n",
    "\n",
    "l=[10,20,30,40,50,60]\n",
    "\n",
    "for i in l:\n",
    "    avg=(l[0] + l[-1])/2\n",
    "    \n",
    "print(\"Average is:\",avg)"
   ]
  },
  {
   "cell_type": "code",
   "execution_count": 34,
   "id": "9b1ce875-a6b6-4ebb-9940-2ca2b081cdfc",
   "metadata": {},
   "outputs": [
    {
     "name": "stdout",
     "output_type": "stream",
     "text": [
      "0 1 1 2 3 5 8 13 21 34 55 89 144 233 377 610 987 1597 2584 4181 "
     ]
    }
   ],
   "source": [
    "#10. Develop a program that prints the first `n` Fibonacci numbers using a `for` loop.\n",
    "\n",
    "a, b = 0, 1\n",
    "series_length = 18\n",
    "\n",
    "print(a, b, end=' ')\n",
    "for i in range(series_length):\n",
    "    c = a + b\n",
    "    print(c, end=' ')\n",
    "    a = b\n",
    "    b = c\n",
    "\n"
   ]
  },
  {
   "cell_type": "code",
   "execution_count": 36,
   "id": "cc284710-d266-4093-868a-fa202440ec0c",
   "metadata": {},
   "outputs": [
    {
     "name": "stdout",
     "output_type": "stream",
     "text": [
      "List is [1, 2, 3, 4, 5, 6, 7]\n"
     ]
    }
   ],
   "source": [
    "#11. Write a program to check if a given list contains any duplicates using a `for` loop.\n",
    "# program to print duplicate numbers in a given list\n",
    "# provided input\n",
    "list = [1, 2, 1, 2, 3, 4, 5, 1, 1, 2, 5, 6, 7, 8, 9, 9]\n",
    "\n",
    "new = [] # defining output list\n",
    "\n",
    "# condition for reviewing every\n",
    "# element of given input list\n",
    "for a in list:\n",
    "\n",
    "\t# checking the occurrence of elements\n",
    "\tn = list.count(a)\n",
    "\n",
    "\t# if the occurrence is more than\n",
    "\t# one we add it to the output list\n",
    "\tif n > 1:\n",
    "\n",
    "\t\tif new.count(a) == 0: # condition to check\n",
    "\n",
    "\t\t\tnew.append(a)\n",
    "\n",
    "print(new)\n",
    "\n",
    "\n"
   ]
  },
  {
   "cell_type": "code",
   "execution_count": 37,
   "id": "040da007-a630-4a5e-bdb5-375d2f36117b",
   "metadata": {},
   "outputs": [
    {
     "name": "stdin",
     "output_type": "stream",
     "text": [
      "Please, Enter the Lowest Range Value:  12\n",
      "Please, Enter the Upper Range Value:  69\n"
     ]
    },
    {
     "name": "stdout",
     "output_type": "stream",
     "text": [
      "The Prime Numbers in the range are: \n",
      "13\n",
      "17\n",
      "19\n",
      "23\n",
      "29\n",
      "31\n",
      "37\n",
      "41\n",
      "43\n",
      "47\n",
      "53\n",
      "59\n",
      "61\n",
      "67\n"
     ]
    }
   ],
   "source": [
    "#12. Create a program that prints the prime numbers in a given range using a `for` loop.\n",
    "lower_value = int(input (\"Please, Enter the Lowest Range Value: \"))  \n",
    "upper_value = int(input (\"Please, Enter the Upper Range Value: \"))  \n",
    "  \n",
    "print (\"The Prime Numbers in the range are: \")  \n",
    "for number in range (lower_value, upper_value + 1):  \n",
    "    if number > 1:  \n",
    "        for i in range (2, number):  \n",
    "            if (number % i) == 0:  \n",
    "                break  \n",
    "        else:  \n",
    "            print (number) "
   ]
  },
  {
   "cell_type": "code",
   "execution_count": 39,
   "id": "98195a25-a08e-49dd-b4f1-67dcc1ff07d0",
   "metadata": {},
   "outputs": [
    {
     "name": "stdin",
     "output_type": "stream",
     "text": [
      "Enter string: ishan\n"
     ]
    },
    {
     "name": "stdout",
     "output_type": "stream",
     "text": [
      "No of vowels in a string is: 2\n"
     ]
    }
   ],
   "source": [
    "#13. Develop a program that counts the number of vowels in a string using a `for` loop.\n",
    "s=input(\"Enter string:\")\n",
    "c=0\n",
    "for i in s:\n",
    "    if i==\"a\" or i==\"e\" or i==\"i\" or i==\"o\" or i==\"u\" or i==\"A\" or i==\"E\" or i==\"I\" or i==\"O\" or i==\"U\":\n",
    "        c+=1\n",
    "        \n",
    "print(\"No of vowels in a string is:\",c)"
   ]
  },
  {
   "cell_type": "code",
   "execution_count": 10,
   "id": "34d18db4-f11e-478c-bc90-a90e0c72243f",
   "metadata": {},
   "outputs": [
    {
     "name": "stdout",
     "output_type": "stream",
     "text": [
      "Max Element is 8\n"
     ]
    }
   ],
   "source": [
    "#14. Write a program to find the maximum element in a 2D list using a nested `for` loop.\n",
    "l=[[1,2,3],[4,5],[6,7,8]]\n",
    "for i in l:\n",
    "    for j in i:\n",
    "        max_ele=max(l)\n",
    "        x=max(max_ele)\n",
    "    \n",
    "print(\"Max Element is\",x)\n"
   ]
  },
  {
   "cell_type": "code",
   "execution_count": 15,
   "id": "2fff2314-7080-4148-a898-49d7241d245b",
   "metadata": {},
   "outputs": [
    {
     "name": "stdout",
     "output_type": "stream",
     "text": [
      "Original list:\n",
      "[10, 20, 10, 30, 10, 40, 10, 50]\n",
      "list after removing elements:\n",
      "[20, 30, 40, 50]\n"
     ]
    }
   ],
   "source": [
    "#15. Create a program that removes all occurrences of a specific element from a list using a `for` loop.\n",
    "# list with integer elements\n",
    "list = [10, 20, 10, 30, 10, 40, 10, 50]\n",
    "# number (n) to be removed\n",
    "n = 10\n",
    "\n",
    "# print original list \n",
    "print (\"Original list:\")\n",
    "print (list)\n",
    "\n",
    "# loop to traverse each element in list\n",
    "# and, remove elements \n",
    "# which are equals to n\n",
    "for x in list:\n",
    "    if x == n:\n",
    "        list.remove(x)\n",
    "\n",
    "# print list after removing given element\n",
    "print (\"list after removing elements:\")\n",
    "print (list)\n"
   ]
  },
  {
   "cell_type": "code",
   "execution_count": 25,
   "id": "11043718-101f-4760-afc1-32c7a0cef8f8",
   "metadata": {},
   "outputs": [
    {
     "name": "stdout",
     "output_type": "stream",
     "text": [
      "       1   2   3   4   5   6   7   8   9\n",
      "   1   1   2   3   4   5   6   7   8   9\n",
      "   2   2   4   6   8  10  12  14  16  18\n",
      "   3   3   6   9  12  15  18  21  24  27\n",
      "   4   4   8  12  16  20  24  28  32  36\n",
      "   5   5  10  15  20  25  30  35  40  45\n",
      "   6   6  12  18  24  30  36  42  48  54\n",
      "   7   7  14  21  28  35  42  49  56  63\n",
      "   8   8  16  24  32  40  48  56  64  72\n",
      "   9   9  18  27  36  45  54  63  72  81\n"
     ]
    }
   ],
   "source": [
    "#16. Develop a program that generates a multiplication table for numbers from 1 to 5 using a nested `for` loop\n",
    "for row in range(0, 10):\n",
    "    for col in range(0, 10):\n",
    "        num = row * col\n",
    "        if num < 10:\n",
    "            empty = \"  \"\n",
    "        else:\n",
    "            if num < 100:\n",
    "                empty = \" \"\n",
    "        if col == 0:\n",
    "            if row == 0:\n",
    "                print(\"    \", end='')\n",
    "            else:\n",
    "                print(\"  \", row, end='')\n",
    "        elif row == 0:\n",
    "            print(\"  \", col, end='')\n",
    "        else:\n",
    "            print(empty, num, end='')\n",
    "    print()\n",
    "    \n",
    "    "
   ]
  },
  {
   "cell_type": "code",
   "execution_count": 31,
   "id": "4fe6858c-5867-4bb2-879b-ca8a921d8a8a",
   "metadata": {},
   "outputs": [
    {
     "name": "stdout",
     "output_type": "stream",
     "text": [
      "Temp from farenheit to celcius for 36 is 96.8\n",
      "Temp from farenheit to celcius for 45 is 113.0\n",
      "Temp from farenheit to celcius for 30 is 86.0\n",
      "Temp from farenheit to celcius for 28.6 is 83.48\n",
      "Temp from farenheit to celcius for 31.5 is 88.7\n"
     ]
    }
   ],
   "source": [
    "#17. Write a program that converts a list of Fahrenheit temperatures to Celsius using a `for` loop.\n",
    "l=[36,45,30,28.6,31.5]\n",
    "for i in l:\n",
    "    celcius=i*1.8+32\n",
    "    print(\"Temp from  farenheit to celcius for\",i,\"is\",celcius)"
   ]
  },
  {
   "cell_type": "code",
   "execution_count": 36,
   "id": "db5f1c66-d025-4fe0-a37e-74cf54a1723d",
   "metadata": {},
   "outputs": [
    {
     "name": "stdout",
     "output_type": "stream",
     "text": [
      "The common elements in the two lists are: \n",
      "[5]\n"
     ]
    }
   ],
   "source": [
    "#18. Create a program to print the common elements from two lists using a `for` loop.\n",
    "def common_member(a, b):\n",
    "\tresult = [i for i in a if i in b]\n",
    "\treturn result\n",
    "\n",
    "a = [1, 2, 3, 4, 5]\n",
    "b = [5, 6, 7, 8, 9]\n",
    "\n",
    "print(\"The common elements in the two lists are: \")\n",
    "print(common_member(a, b))\n"
   ]
  },
  {
   "cell_type": "code",
   "execution_count": 1,
   "id": "40a6581f-d8cc-4075-be63-ed92ae8382d5",
   "metadata": {},
   "outputs": [
    {
     "name": "stdout",
     "output_type": "stream",
     "text": [
      "* \n",
      "* * \n",
      "* * * \n",
      "* * * * \n",
      "* * * * * \n"
     ]
    }
   ],
   "source": [
    "#19. Develop a program that prints the pattern of right-angled triangles using a `for` loop. Use ‘*’ to draw the\n",
    "#pattern\n",
    "for i in range(5):\n",
    "    for j in range(i+1):\n",
    "        print(\"*\",end=\" \")\n",
    "    print()"
   ]
  },
  {
   "cell_type": "code",
   "execution_count": 3,
   "id": "efcd8a6c-5c04-47e5-ba77-ebe5dc02ffc8",
   "metadata": {},
   "outputs": [
    {
     "name": "stdin",
     "output_type": "stream",
     "text": [
      "Enter First No. 30\n",
      "Enter Second No. 50\n"
     ]
    },
    {
     "name": "stdout",
     "output_type": "stream",
     "text": [
      "GCD of 30 and 50 is: 10\n"
     ]
    }
   ],
   "source": [
    "#20.Write a program to find the greatest common divisor (GCD) of two numbers using a `for` loop.\n",
    "\n",
    "x = int(input(\"Enter First No.\"))\n",
    "y = int(input(\"Enter Second No.\"))\n",
    "\n",
    "if x > y:\n",
    "  x, y = y, x\n",
    "for i in range(1,x+1):\n",
    "  if x%i == 0 and y%i == 0:\n",
    "    gcd = i\n",
    "\n",
    "print(\"GCD of\", x, \"and\", y, \"is:\", gcd)"
   ]
  },
  {
   "cell_type": "code",
   "execution_count": 1,
   "id": "90e9de0c-943f-4d2d-a62f-6d1feff05174",
   "metadata": {},
   "outputs": [
    {
     "name": "stdout",
     "output_type": "stream",
     "text": [
      "The original list is : [12, 67, 98, 34]\n",
      "List Integer Summation : [3, 13, 17, 7]\n"
     ]
    }
   ],
   "source": [
    "#21. Create a program that calculates the sum of the digits of numbers in a list using a list comprehension\n",
    "# Python3 code to demonstrate \n",
    "# Sum of number digits in List\n",
    "# using sum() + list comprehension\n",
    "\n",
    "# Initializing list\n",
    "test_list = [12, 67, 98, 34]\n",
    "\n",
    "# printing original list\n",
    "print(\"The original list is : \" + str(test_list))\n",
    "\n",
    "# Sum of number digits in List\n",
    "# using sum() + list comprehension\n",
    "res = list(map(lambda ele: sum(int(sub) for sub in str(ele)), test_list))\n",
    "\t\n",
    "# printing result \n",
    "print (\"List Integer Summation : \" + str(res))\n"
   ]
  },
  {
   "cell_type": "code",
   "execution_count": 2,
   "id": "ddba14b9-f4b5-4b4d-8ecc-776e8944a571",
   "metadata": {},
   "outputs": [
    {
     "name": "stdout",
     "output_type": "stream",
     "text": [
      "3\n",
      "3\n",
      "5\n",
      "7\n"
     ]
    }
   ],
   "source": [
    "#22.# Python program to print prime factors\n",
    "\n",
    "import math\n",
    "\n",
    "# A function to print all prime factors of\n",
    "# a given number n\n",
    "def primeFactors(n):\n",
    "\t\n",
    "\t# Print the number of two's that divide n\n",
    "\twhile n % 2 == 0:\n",
    "\t\tprint(2)\n",
    "\t\tn = n // 2\n",
    "\t\t\n",
    "\t# n must be odd at this point\n",
    "\t# so a skip of 2 ( i = i + 2) can be used\n",
    "\tfor i in range(3,int(math.sqrt(n))+1,2):\n",
    "\t\t\n",
    "\t\t# while i divides n , print i ad divide n\n",
    "\t\twhile n % i== 0:\n",
    "\t\t\tprint(i)\n",
    "\t\t\tn = n // i\n",
    "\t\t\t\n",
    "\t# Condition if n is a prime\n",
    "\t# number greater than 2\n",
    "\tif n > 2:\n",
    "\t\tprint(n)\n",
    "\t\t\n",
    "# Driver Program to test above function\n",
    "\n",
    "n = 315\n",
    "primeFactors(n)\n",
    "\n",
    "# This code is contributed by Harshit Agrawal \n",
    "#Code Improved by Sarthak Shrivastava\n"
   ]
  },
  {
   "cell_type": "code",
   "execution_count": 5,
   "id": "61a7b2e9-8d6c-4f45-9612-a55d92ae578a",
   "metadata": {},
   "outputs": [
    {
     "name": "stdout",
     "output_type": "stream",
     "text": [
      "the unique values from 1st list is\n",
      "10\n",
      "20\n",
      "30\n",
      "40\n",
      "\n",
      "the unique values from 2nd list is\n",
      "1\n",
      "2\n",
      "3\n",
      "4\n",
      "5\n"
     ]
    }
   ],
   "source": [
    "#23. Develop a program that extracts unique elements from a list and stores them in a new list using a list\n",
    "#comprehension.\n",
    "\n",
    "# function to get unique values\n",
    "def unique(list1):\n",
    "\n",
    "\t# initialize a null list\n",
    "\tunique_list = []\n",
    "\n",
    "\t# traverse for all elements\n",
    "\tfor x in list1:\n",
    "\t\t# check if exists in unique_list or not\n",
    "\t\tif x not in unique_list:\n",
    "\t\t\tunique_list.append(x)\n",
    "\t# print list\n",
    "\tfor x in unique_list:\n",
    "\t\tprint(x)\n",
    "\n",
    "\n",
    "# driver code\n",
    "list1 = [10, 20, 10, 30, 40, 40]\n",
    "print(\"the unique values from 1st list is\")\n",
    "unique(list1)\n",
    "\n",
    "\n",
    "list2 = [1, 2, 1, 1, 3, 4, 3, 3, 5]\n",
    "print(\"\\nthe unique values from 2nd list is\")\n",
    "unique(list2)\n"
   ]
  },
  {
   "cell_type": "code",
   "execution_count": 7,
   "id": "1bcb6347-39bd-4388-b51d-83d2c69bc41b",
   "metadata": {},
   "outputs": [
    {
     "name": "stdin",
     "output_type": "stream",
     "text": [
      "Enter total number of elements:  5\n",
      " 12 24 36 48 60\n"
     ]
    },
    {
     "name": "stdout",
     "output_type": "stream",
     "text": [
      "Input list elements are: [12, 24, 36, 48, 60]\n",
      "Palindrome numbers are:\n"
     ]
    }
   ],
   "source": [
    "#24. Create a program that generates a list of all palindromic numbers up to a specified limit using a list\n",
    "#comprehension\n",
    "# Give size of list\n",
    "n = int(input(\"Enter total number of elements: \"))\n",
    "\n",
    "# Give list of numbers having size n\n",
    "l = list(map(int, input().strip().split(\" \")))\n",
    "\n",
    "# Print the input list\n",
    "print(\"Input list elements are:\", l)\n",
    "\n",
    "# Check through the list to check\n",
    "# number is palindrome or not\n",
    "print(\"Palindrome numbers are:\")\n",
    "for i in l:\n",
    "    num = str(i)\n",
    "    if \"\".join(reversed(num)) == num:\n",
    "        print(i)\n"
   ]
  },
  {
   "cell_type": "code",
   "execution_count": 8,
   "id": "a0cefa3e-02e3-41fb-9aa7-1e22fdb32e5d",
   "metadata": {},
   "outputs": [
    {
     "name": "stdout",
     "output_type": "stream",
     "text": [
      "[1, 2, 3, 4, 5, 6, 7]\n"
     ]
    }
   ],
   "source": [
    "#25. Write a program to flatten a nested list using list comprehension\n",
    "my_list = [[1], [2, 3], [4, 5, 6, 7]]\n",
    "\n",
    "flat_list = [num for sublist in my_list for num in sublist]\n",
    "print(flat_list)"
   ]
  },
  {
   "cell_type": "code",
   "execution_count": 12,
   "id": "7eac5897-f2a6-458f-8287-a4eb8528318b",
   "metadata": {},
   "outputs": [
    {
     "name": "stdout",
     "output_type": "stream",
     "text": [
      "[2, 4, 6, 8]\n",
      "[1, 3, 5, 7, 9]\n",
      "sum of even list= 20\n",
      "sum of odd list 25\n"
     ]
    }
   ],
   "source": [
    "#26.Develop a program that computes the sum of even and odd numbers in a list separately using list\n",
    "#comprehension.\n",
    "sum_of_even_list=0\n",
    "sum_of_odd_list=0\n",
    "l=[1,2,3,4,5,6,7,8,9]\n",
    "even_list=[i for i in l if i%2==0]\n",
    "odd_list=[j for j in l if j%2!=0]\n",
    "print(even_list)\n",
    "print(odd_list)\n",
    "for x in even_list:\n",
    "    sum_of_even_list+=x\n",
    "for y in odd_list:\n",
    "    sum_of_odd_list+=y\n",
    "print(\"sum of even list=\",sum_of_even_list)\n",
    "print(\"sum of odd list=\",sum_of_odd_list)  \n"
   ]
  },
  {
   "cell_type": "code",
   "execution_count": 13,
   "id": "991daaaa-1d59-4af0-968d-6963aac49a71",
   "metadata": {},
   "outputs": [
    {
     "name": "stdout",
     "output_type": "stream",
     "text": [
      "[1, 9, 25, 49, 81]\n"
     ]
    }
   ],
   "source": [
    "#27. Create a program that generates a list of squares of odd numbers between 1 and 10 using list\n",
    "#comprehension\n",
    "\n",
    "odd_list_squares=[j*j for j in range(1,11) if j%2!=0]\n",
    "print(odd_list_squares)"
   ]
  },
  {
   "cell_type": "code",
   "execution_count": 14,
   "id": "15226821-4801-4c5c-b9cf-92c22d236b35",
   "metadata": {},
   "outputs": [
    {
     "name": "stdout",
     "output_type": "stream",
     "text": [
      "Original key list is : ['Rash', 'Kil', 'Varsha']\n",
      "Original value list is : [1, 4, 5]\n",
      "Resultant dictionary is : {'Rash': 1, 'Kil': 4, 'Varsha': 5}\n"
     ]
    }
   ],
   "source": [
    "#28. Write a program that combines two lists into a dictionary using list comprehension.\n",
    "# Python3 code to demonstrate\n",
    "# conversion of lists to dictionary\n",
    "# using naive method\n",
    "\n",
    "# initializing lists\n",
    "test_keys = [\"Rash\", \"Kil\", \"Varsha\"]\n",
    "test_values = [1, 4, 5]\n",
    "\n",
    "# Printing original keys-value lists\n",
    "print(\"Original key list is : \" + str(test_keys))\n",
    "print(\"Original value list is : \" + str(test_values))\n",
    "\n",
    "# using naive method\n",
    "# to convert lists to dictionary\n",
    "res = {}\n",
    "for key in test_keys:\n",
    "\tfor value in test_values:\n",
    "\t\tres[key] = value\n",
    "\t\ttest_values.remove(value)\n",
    "\t\tbreak\n",
    "\n",
    "# Printing resultant dictionary\n",
    "print(\"Resultant dictionary is : \" + str(res))\n",
    "\n"
   ]
  },
  {
   "cell_type": "code",
   "execution_count": 16,
   "id": "cf55871f-1bc2-4a8d-a820-4945c23b4391",
   "metadata": {},
   "outputs": [
    {
     "name": "stdin",
     "output_type": "stream",
     "text": [
      "Enter string: ishan bhalerao\n"
     ]
    },
    {
     "name": "stdout",
     "output_type": "stream",
     "text": [
      "['i', 'a', 'a', 'e', 'a', 'o']\n"
     ]
    }
   ],
   "source": [
    "#29. Develop a program that extracts the vowels from a string and stores them in a list using list comprehension.\n",
    "s=input(\"Enter string:\")\n",
    "l=[]\n",
    "for i in s:\n",
    "    if i==\"a\" or i==\"e\" or i==\"i\" or i==\"o\" or i==\"u\" or i==\"A\" or i==\"E\" or i==\"I\" or i==\"U\" or i==\"O\":\n",
    "        l.append(i)\n",
    "        \n",
    "print(l)"
   ]
  },
  {
   "cell_type": "code",
   "execution_count": 19,
   "id": "b8a9dd95-70e9-46b9-bd41-c82a1278bb73",
   "metadata": {},
   "outputs": [
    {
     "name": "stdout",
     "output_type": "stream",
     "text": [
      "ishanbhalerao\n"
     ]
    }
   ],
   "source": [
    "#30 Create a program that removes all non-numeric characters from a list of strings using list comprehension\n",
    "import re\n",
    "\n",
    "my_str = '91918ishan3834bhalerao'\n",
    "\n",
    "result = re.sub(r'[^a-z]', '', my_str)\n",
    "\n",
    "print(result)  \n"
   ]
  },
  {
   "cell_type": "code",
   "execution_count": 20,
   "id": "eef76987-fdec-4713-806e-8f32783d82f1",
   "metadata": {},
   "outputs": [
    {
     "name": "stdout",
     "output_type": "stream",
     "text": [
      "Following are the prime numbers smaller\n",
      "than or equal to 30\n",
      "2\n",
      "3\n",
      "5\n",
      "7\n",
      "11\n",
      "13\n",
      "17\n",
      "19\n",
      "23\n",
      "29\n"
     ]
    }
   ],
   "source": [
    "#31. Write a program to generate a list of prime numbers using the Sieve of Eratosthenes algorithm and list\n",
    "#comprehension.\n",
    "\n",
    "# Python program to print all Primes Smaller \n",
    "# than or equal to N using Sieve of Eratosthenes\n",
    "\n",
    "\n",
    "def SieveOfEratosthenes(num):\n",
    "\tprime = [True for i in range(num+1)]\n",
    "# boolean array\n",
    "\tp = 2\n",
    "\twhile (p * p <= num):\n",
    "\n",
    "\t\t# If prime[p] is not\n",
    "\t\t# changed, then it is a prime\n",
    "\t\tif (prime[p] == True):\n",
    "\n",
    "\t\t\t# Updating all multiples of p\n",
    "\t\t\tfor i in range(p * p, num+1, p):\n",
    "\t\t\t\tprime[i] = False\n",
    "\t\tp += 1\n",
    "\n",
    "\t# Print all prime numbers\n",
    "\tfor p in range(2, num+1):\n",
    "\t\tif prime[p]:\n",
    "\t\t\tprint(p)\n",
    "\n",
    "\n",
    "# Driver code\n",
    "if __name__ == '__main__':\n",
    "\tnum = 30\n",
    "\tprint(\"Following are the prime numbers smaller\"),\n",
    "\tprint(\"than or equal to\", num)\n",
    "\tSieveOfEratosthenes(num)\n"
   ]
  },
  {
   "cell_type": "code",
   "execution_count": 24,
   "id": "61c742fc-5e9f-4d2a-a611-98fc0fb4c9da",
   "metadata": {},
   "outputs": [
    {
     "name": "stdout",
     "output_type": "stream",
     "text": [
      "[(3, 4, 5), (5, 12, 13), (6, 8, 10), (7, 24, 25), (8, 15, 17), (9, 12, 15), (10, 24, 26), (12, 16, 20), (15, 20, 25), (20, 21, 29)]\n"
     ]
    }
   ],
   "source": [
    "#32. Create a program that generates a list of all Pythagorean triplets up to a specified limit using list\n",
    "#comprehension.\n",
    "\n",
    "pthag = [(x,y,z) for x in range(1,30) for y in range(x,30) for z in range(y,30) if x**2 + y**2 == z**2]\n",
    "# I get that this is the part that calculates the starting point\n",
    "print(pthag)"
   ]
  },
  {
   "cell_type": "code",
   "execution_count": 25,
   "id": "c89f51b1-4469-4cb7-9015-e6c015f74c41",
   "metadata": {},
   "outputs": [
    {
     "name": "stdout",
     "output_type": "stream",
     "text": [
      "The original lists are : [1, 3, 4] [6, 7, 9] [8, 10, 5]\n",
      "All possible permutations are : [[1, 6, 8], [1, 6, 10], [1, 6, 5], [1, 7, 8], [1, 7, 10], [1, 7, 5], [1, 9, 8], [1, 9, 10], [1, 9, 5], [3, 6, 8], [3, 6, 10], [3, 6, 5], [3, 7, 8], [3, 7, 10], [3, 7, 5], [3, 9, 8], [3, 9, 10], [3, 9, 5], [4, 6, 8], [4, 6, 10], [4, 6, 5], [4, 7, 8], [4, 7, 10], [4, 7, 5], [4, 9, 8], [4, 9, 10], [4, 9, 5]]\n"
     ]
    }
   ],
   "source": [
    "#33. Develop a program that generates a list of all possible combinations of two lists using list comprehension.\n",
    "# Python3 code to demonstrate\n",
    "# to compute all possible permutations\n",
    "# using list comprehension\n",
    "\n",
    "# initializing lists\n",
    "list1 = [1, 3, 4]\n",
    "list2 = [6, 7, 9]\n",
    "list3 = [8, 10, 5]\n",
    "\n",
    "# printing lists\n",
    "print (\"The original lists are : \" + str(list1) +\n",
    "\t\t\t\t\t\t\t\" \" + str(list2) +\n",
    "\t\t\t\t\t\t\t\" \" + str(list3))\n",
    "\n",
    "# using list comprehension\n",
    "# to compute all possible permutations\n",
    "res = [[i, j, k] for i in list1\n",
    "\t\t\t\tfor j in list2\n",
    "\t\t\t\tfor k in list3]\n",
    "\n",
    "# printing result\n",
    "print (\"All possible permutations are : \" + str(res))\n"
   ]
  },
  {
   "cell_type": "code",
   "execution_count": 31,
   "id": "c53c48fa-ce4c-4eb2-9656-271558a7921c",
   "metadata": {},
   "outputs": [
    {
     "name": "stdout",
     "output_type": "stream",
     "text": [
      "Mean / Average is: 3.0\n",
      "Median is: 3\n",
      "Mode is / are: 2, 4\n"
     ]
    }
   ],
   "source": [
    "#34. write a python program that calculates mean,median and mode of a list using list comprehension.\n",
    "\n",
    "# Python program to print \n",
    "# mean of elements \n",
    "\n",
    "# list of elements to calculate mean \n",
    "from collections import Counter \n",
    "n_num = [1, 2, 3, 4, 5,2,4] \n",
    "n = len(n_num) \n",
    "\n",
    "get_sum = sum(n_num) \n",
    "mean = get_sum / n \n",
    "\n",
    "print(\"Mean / Average is: \" + str(mean)) \n",
    "\n",
    "n_num.sort() \n",
    " \n",
    "if n % 2 == 0: \n",
    "    median1 = n_num[n//2] \n",
    "    median2 = n_num[n//2 - 1] \n",
    "    median = (median1 + median2)/2\n",
    "else: \n",
    "    median = n_num[n//2] \n",
    "print(\"Median is: \" + str(median))\n",
    "\n",
    "data = Counter(n_num) \n",
    "get_mode = dict(data) \n",
    "mode = [k for k, v in get_mode.items() if v == max(list(data.values()))] \n",
    " \n",
    "if len(mode) == n: \n",
    "    get_mode = \"No mode found\"\n",
    "else: \n",
    "    get_mode = \"Mode is / are: \" + ', '.join(map(str, mode)) \n",
    "     \n",
    "print(get_mode) "
   ]
  },
  {
   "cell_type": "code",
   "execution_count": 32,
   "id": "a8d56905-9a3d-4dfe-9def-e15e6f073b5e",
   "metadata": {},
   "outputs": [
    {
     "name": "stdout",
     "output_type": "stream",
     "text": [
      "      1 \n",
      "     1 1 \n",
      "    1 2 1 \n",
      "   1 3 3 1 \n",
      "  1 4 6 4 1 \n"
     ]
    }
   ],
   "source": [
    "#35. Create a program that generates pascal's triangle upto a specified number of rows using list comprehension.\n",
    "\n",
    "# Print Pascal's Triangle in Python\n",
    "from math import factorial\n",
    "\n",
    "# input n\n",
    "n = 5\n",
    "for i in range(n):\n",
    "\tfor j in range(n-i+1):\n",
    "\n",
    "\t\t# for left spacing\n",
    "\t\tprint(end=\" \")\n",
    "\n",
    "\tfor j in range(i+1):\n",
    "\n",
    "\t\t# nCr = n!/((n-r)!*r!)\n",
    "\t\tprint(factorial(i)//(factorial(j)*factorial(i-j)), end=\" \")\n",
    "\n",
    "\t# for new line\n",
    "\tprint()\n"
   ]
  },
  {
   "cell_type": "code",
   "execution_count": 33,
   "id": "662debce-90d1-41ac-8b72-3d00cc4e73d8",
   "metadata": {},
   "outputs": [
    {
     "name": "stdout",
     "output_type": "stream",
     "text": [
      "The original list is : [12, 67, 98, 34]\n",
      "List Integer Summation : [3, 13, 17, 7]\n"
     ]
    }
   ],
   "source": [
    "#36. Develop a program that calculates the sum of the digits of a factorial of a number from 1 to 5 using list comprehension.\n",
    "\n",
    "# Python3 code to demonstrate \n",
    "# Sum of number digits in List\n",
    "# using loop + str()\n",
    "\n",
    "# Initializing list\n",
    "test_list = [12, 67, 98, 34]\n",
    "\n",
    "# printing original list\n",
    "print(\"The original list is : \" + str(test_list))\n",
    "\n",
    "# Sum of number digits in List\n",
    "# using loop + str()\n",
    "res = []\n",
    "for ele in test_list:\n",
    "\tsum = 0\n",
    "\tfor digit in str(ele):\n",
    "\t\tsum += int(digit)\n",
    "\tres.append(sum)\n",
    "\t\n",
    "# printing result \n",
    "print (\"List Integer Summation : \" + str(res))\n"
   ]
  },
  {
   "cell_type": "code",
   "execution_count": 34,
   "id": "66a89535-801a-4939-bdb0-38aeeea22c3e",
   "metadata": {},
   "outputs": [
    {
     "name": "stdout",
     "output_type": "stream",
     "text": [
      "confident\n"
     ]
    }
   ],
   "source": [
    "#37. Write a program that finds longest word in a sentense using list comprehension.\n",
    "# Python3 program for the above approach\n",
    "\n",
    "# Function to print the\n",
    "# longest word in the string s\n",
    "\n",
    "\n",
    "def longestword(s):\n",
    "\t\n",
    "\t#splitting the string into words\n",
    "\ts=s.split()\n",
    "\t# Using max() method\n",
    "\tprint(max(s,key=len))\n",
    "\n",
    "\n",
    "# Driver Code\n",
    "if __name__ == \"__main__\":\n",
    "\n",
    "\t# Given string\n",
    "\ts = \"be confident and be yourself\"\n",
    "\n",
    "\n",
    "\t#calling longestword function\n",
    "\tlongestword(s)\n",
    "#This code contributed by tvsk\n"
   ]
  },
  {
   "cell_type": "code",
   "execution_count": 35,
   "id": "90b40652-809e-4538-8f94-83eed30a9506",
   "metadata": {},
   "outputs": [
    {
     "name": "stdout",
     "output_type": "stream",
     "text": [
      "The original list is : ['gfg', 'best', 'for', 'geeks']\n",
      "Maximum vowels word : geeks\n"
     ]
    }
   ],
   "source": [
    "#38. Create a program that filters a list of string to include those with more than three vowels using list comprehension.\n",
    "# Initializing Matrix\n",
    "test_list = [\"gfg\", \"best\", \"for\", \"geeks\"]\n",
    "\n",
    "# Printing original list\n",
    "print(\"The original list is : \" + str(test_list))\n",
    "\n",
    "res = \"\"\n",
    "max_len = 0\n",
    "\n",
    "for ele in test_list:\n",
    "\n",
    "\t# Getting maximum length and element iteratively\n",
    "\tvow_len = len([el for el in ele if el in ['a', 'e', 'o', 'u', 'i']])\n",
    "\t\n",
    "\tif vow_len > max_len:\n",
    "\t\tmax_len = vow_len\n",
    "\t\tres = ele\n",
    "\n",
    "# Printing result\n",
    "print(\"Maximum vowels word : \" + str(res))\n"
   ]
  },
  {
   "cell_type": "code",
   "execution_count": 38,
   "id": "3bd7960f-1773-4ef8-836c-94c4cc25c177",
   "metadata": {},
   "outputs": [
    {
     "name": "stdout",
     "output_type": "stream",
     "text": [
      "The original list is : [12, 67, 98, 34]\n",
      "List Integer Summation : [3, 13, 17, 7]\n"
     ]
    }
   ],
   "source": [
    "#39. Develop a program that calculates a sum of dogits from 1 to 1000 using list comprehension.\n",
    "# Python3 code to demonstrate \n",
    "# Sum of number digits in List\n",
    "# using loop + str()\n",
    "\n",
    "# Initializing list\n",
    "test_list = [12, 67, 98, 34]\n",
    "\n",
    "# printing original list\n",
    "print(\"The original list is : \" + str(test_list))\n",
    "\n",
    "# Sum of number digits in List\n",
    "# using loop + str()\n",
    "res = []\n",
    "for ele in test_list:\n",
    "\tsum = 0\n",
    "\tfor digit in str(ele):\n",
    "\t\tsum += int(digit)\n",
    "\tres.append(sum)\n",
    "\t\n",
    "# printing result \n",
    "print (\"List Integer Summation : \" + str(res))\n",
    "\n"
   ]
  },
  {
   "cell_type": "code",
   "execution_count": 39,
   "id": "7f03b593-5f36-44fb-a007-90c624006cec",
   "metadata": {},
   "outputs": [
    {
     "name": "stdin",
     "output_type": "stream",
     "text": [
      "Enter total number of elements:  5\n",
      " 10 20 31 33 676\n"
     ]
    },
    {
     "name": "stdout",
     "output_type": "stream",
     "text": [
      "Input list elements are: [10, 20, 31, 33, 676]\n",
      "Palindrome numbers are:\n",
      "33\n",
      "676\n"
     ]
    }
   ],
   "source": [
    "#40. Write a program that generates a list of prime palindromic numbers using list comprehension.\n",
    "# Give size of list\n",
    "n = int(input(\"Enter total number of elements: \"))\n",
    "\n",
    "# Give list of numbers having size n\n",
    "l = list(map(int, input().strip().split(\" \")))\n",
    "\n",
    "# Print the input list\n",
    "print(\"Input list elements are:\", l)\n",
    "\n",
    "# Check through the list to check\n",
    "# number is palindrome or not\n",
    "print(\"Palindrome numbers are:\")\n",
    "for i in l:\n",
    "    num = str(i)\n",
    "    if \"\".join(reversed(num)) == num:\n",
    "        print(i)\n"
   ]
  },
  {
   "cell_type": "code",
   "execution_count": null,
   "id": "311a4519-43ac-44db-845b-82ac2ca2b436",
   "metadata": {},
   "outputs": [],
   "source": []
  }
 ],
 "metadata": {
  "kernelspec": {
   "display_name": "Python 3 (ipykernel)",
   "language": "python",
   "name": "python3"
  },
  "language_info": {
   "codemirror_mode": {
    "name": "ipython",
    "version": 3
   },
   "file_extension": ".py",
   "mimetype": "text/x-python",
   "name": "python",
   "nbconvert_exporter": "python",
   "pygments_lexer": "ipython3",
   "version": "3.10.8"
  }
 },
 "nbformat": 4,
 "nbformat_minor": 5
}
